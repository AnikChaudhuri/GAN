{
 "metadata": {
  "language_info": {
   "codemirror_mode": {
    "name": "ipython",
    "version": 3
   },
   "file_extension": ".py",
   "mimetype": "text/x-python",
   "name": "python",
   "nbconvert_exporter": "python",
   "pygments_lexer": "ipython3",
   "version": "3.8.5-final"
  },
  "orig_nbformat": 2,
  "kernelspec": {
   "name": "python38564bitc89043b2532c4d16ae924f5a79f8e73b",
   "display_name": "Python 3.8.5 64-bit",
   "language": "python"
  }
 },
 "nbformat": 4,
 "nbformat_minor": 2,
 "cells": [
  {
   "cell_type": "code",
   "execution_count": null,
   "metadata": {},
   "outputs": [],
   "source": [
    "import torch\n",
    "import torch.nn as nn\n",
    "import torch.optim as optim\n",
    "import numpy as np\n",
    "import matplotlib.pyplot as plt"
   ]
  },
  {
   "cell_type": "code",
   "execution_count": null,
   "metadata": {},
   "outputs": [],
   "source": [
    "class discriminator(nn.Module):\n",
    "    def __init__(self, in_features):\n",
    "        super().__init__()\n",
    "        self.disc = nn.Sequential(\n",
    "            nn.Linear(in_features,64),\n",
    "            nn.LeakyReLU(.01),\n",
    "            nn.Linear(64, 1),\n",
    "            nn.Sigmoid(),\n",
    "        )\n",
    "\n",
    "    def forward(self, x):\n",
    "        return self.disc(x)\n",
    "    \n",
    "class generator(nn.Module):\n",
    "    def __init__(self, n_dim, io_dim):\n",
    "        super().__init__()\n",
    "        self.gen = nn.Sequential(\n",
    "            nn.Linear(n_dim,64),\n",
    "            nn.LeakyReLU(.01),\n",
    "            nn.Linear(64, io_dim),\n",
    "        )\n",
    "\n",
    "    def forward(self, x):\n",
    "        return self.gen(x)\n",
    "\n",
    "n_dim = 3 #noise dimension.\n",
    "io_dim = 3 #generator output and disc input dimension.\n",
    "lr = 3e-4\n",
    "num_epoch = 10000\n",
    "#num_exp = 1000\n",
    "#batch = 100\n",
    "\n",
    "disc = discriminator(io_dim)\n",
    "gen = generator(n_dim, io_dim)\n",
    "\n",
    "opt_disc = optim.Adam(disc.parameters(), lr=lr)\n",
    "opt_gen = optim.Adam(gen.parameters(), lr=lr)\n",
    "criterion = nn.BCELoss()\n",
    "\n",
    "fixed = torch.randint(0,2,(1,n_dim))\n",
    "fixed_noise = fixed.float()\n",
    "\n",
    "z= np.zeros(num_epoch)\n",
    "z1= np.zeros(num_epoch)\n",
    "z2= np.zeros(num_epoch)\n",
    "\n",
    "data=torch.zeros(20,3)\n",
    "conc = torch.Tensor([[6,10,3]])\n",
    "for i in range(20):\n",
    "    dist = torch.distributions.dirichlet.Dirichlet(conc)\n",
    "    data[i] = dist.sample()\n",
    "\n",
    "for ep in range(1):\n",
    "\n",
    "    for epoch in range(num_epoch):\n",
    "        #print(epoch)\n",
    "        for batch in range(20):\n",
    "\n",
    "            ##Training discriminator\n",
    "            #conc = torch.Tensor([[10,6,3]])\n",
    "            #dist = torch.distributions.dirichlet.Dirichlet(conc)\n",
    "            #data = dist.sample()\n",
    "\n",
    "            noise = torch.randint(0,2,(1,n_dim))\n",
    "            noise_f = noise.float()\n",
    "            fake = gen(noise_f)\n",
    "            disc_real = disc(data[batch])\n",
    "            lossD_real = criterion(disc_real, torch.ones_like(disc_real))\n",
    "            disc_fake = disc(fake)\n",
    "            lossD_fake = criterion(disc_fake, torch.zeros_like(disc_fake))\n",
    "            lossD = (lossD_real + lossD_fake) / 2\n",
    "            disc.zero_grad()\n",
    "            lossD.backward(retain_graph=True)\n",
    "            opt_disc.step()\n",
    "\n",
    "\n",
    "            ##Training generator\n",
    "            output = disc(fake)\n",
    "            lossG = criterion(output, torch.ones_like(output))\n",
    "            gen.zero_grad()\n",
    "            lossG.backward()\n",
    "            opt_gen.step()\n",
    "\n",
    "        generated_samples = gen(noise_f)\n",
    "\n",
    "        z[epoch] = generated_samples[0,0].item()\n",
    "        z1[epoch] = generated_samples[0,1].item()\n",
    "        z2[epoch] = generated_samples[0,2].item()\n"
   ]
  },
  {
   "cell_type": "code",
   "execution_count": null,
   "metadata": {},
   "outputs": [],
   "source": [
    "len(z)"
   ]
  },
  {
   "cell_type": "code",
   "execution_count": null,
   "metadata": {},
   "outputs": [],
   "source": [
    "from scipy.stats.kde import gaussian_kde\n",
    "density = gaussian_kde(z)\n",
    "xs = np.linspace(-1,1,len(z))\n",
    "plt.plot(xs,density(xs))\n",
    "#plt.hist(K1,density=True)\n",
    "#matplotlib.pyplot.title('marginal distribution of alpha1')\n",
    "plt.ylabel('alpha1')\n",
    "#plt.plot(K1,np.exp(-K3))\n",
    "plt.show()\n",
    "#statistics.mode(Kth_1)\n",
    "a = (density(xs))\n",
    "i = list(a).index(max(density(xs))) \n",
    "i\n",
    "xs[i]"
   ]
  },
  {
   "cell_type": "code",
   "execution_count": null,
   "metadata": {},
   "outputs": [],
   "source": [
    "density = gaussian_kde(z1)\n",
    "xs = np.linspace(-1,1,len(z1))\n",
    "plt.plot(xs,density(xs))\n",
    "#plt.hist(K1,density=True)\n",
    "#matplotlib.pyplot.title('marginal distribution of alpha1')\n",
    "plt.ylabel('alpha1')\n",
    "#plt.plot(K1,np.exp(-K3))\n",
    "plt.show()\n",
    "#statistics.mode(Kth_1)\n",
    "a = (density(xs))\n",
    "i = list(a).index(max(density(xs))) \n",
    "i\n",
    "xs[i]"
   ]
  },
  {
   "cell_type": "code",
   "execution_count": null,
   "metadata": {},
   "outputs": [],
   "source": [
    "density = gaussian_kde(z2)\n",
    "xs = np.linspace(-1,1,len(z2))\n",
    "plt.plot(xs,density(xs))\n",
    "#plt.hist(K1,density=True)\n",
    "#matplotlib.pyplot.title('marginal distribution of alpha1')\n",
    "plt.ylabel('alpha1')\n",
    "#plt.plot(K1,np.exp(-K3))\n",
    "plt.show()\n",
    "#statistics.mode(Kth_1)\n",
    "a = (density(xs))\n",
    "i = list(a).index(max(density(xs))) \n",
    "i\n",
    "xs[i]"
   ]
  },
  {
   "cell_type": "code",
   "execution_count": null,
   "metadata": {},
   "outputs": [],
   "source": [
    "plt.plot(z)\n",
    "plt.show()\n",
    "plt.plot(z1)\n",
    "plt.show()\n",
    "plt.plot(z2)"
   ]
  },
  {
   "cell_type": "code",
   "execution_count": null,
   "metadata": {},
   "outputs": [],
   "source": [
    "\n"
   ]
  },
  {
   "cell_type": "code",
   "execution_count": null,
   "metadata": {},
   "outputs": [],
   "source": [
    "print(np.mean(z))\n",
    "print(np.mean(z1))\n",
    "print(np.mean(z2))"
   ]
  },
  {
   "cell_type": "code",
   "execution_count": null,
   "metadata": {},
   "outputs": [],
   "source": []
  },
  {
   "cell_type": "code",
   "execution_count": null,
   "metadata": {},
   "outputs": [],
   "source": []
  },
  {
   "cell_type": "code",
   "execution_count": null,
   "metadata": {},
   "outputs": [],
   "source": [
    "Z = z[2000:num_epoch]\n",
    "Z1 = z1[2000:num_epoch]\n",
    "Z2 = z2[2000:num_epoch]\n",
    "len(Z)"
   ]
  },
  {
   "cell_type": "code",
   "execution_count": null,
   "metadata": {},
   "outputs": [],
   "source": []
  },
  {
   "cell_type": "code",
   "execution_count": null,
   "metadata": {},
   "outputs": [],
   "source": [
    "#index = []; index1= []; index2 = []\n",
    "#for i in range(len(Z)):\n",
    "    if(Z[i]<0):\n",
    "        index.append(i)\n",
    "    if(Z1[i]<0):\n",
    "        index1.append(i)\n",
    "    if Z2[i]<0:\n",
    "        index2.append(i)\n",
    "#print(index2)\n",
    "print(\"Length of index is\",len(index))\n",
    "print(\"Length of index1 is\",len(index1))\n",
    "print(\"Length of index2 is\",len(index2))\n",
    "#print(index2[1])\n"
   ]
  },
  {
   "cell_type": "code",
   "execution_count": null,
   "metadata": {},
   "outputs": [],
   "source": []
  },
  {
   "cell_type": "code",
   "execution_count": null,
   "metadata": {},
   "outputs": [],
   "source": [
    "#Z = np.delete(Z,index2)\n",
    "#Z1 = np.delete(Z1,index2)\n",
    "#Z2 = np.delete(Z2,index2)"
   ]
  },
  {
   "cell_type": "code",
   "execution_count": null,
   "metadata": {},
   "outputs": [],
   "source": [
    "for i in range(len(Z)):\n",
    "    if(Z[i]<0):\n",
    "        Z[i] = -1*Z[i]\n",
    "    if(Z1[i]<0):\n",
    "        Z1[i] = -1*Z1[i]\n",
    "    if(Z2[i]<0):\n",
    "        Z2[i] = -1*Z2[i]\n",
    "    "
   ]
  },
  {
   "cell_type": "code",
   "execution_count": null,
   "metadata": {},
   "outputs": [],
   "source": []
  },
  {
   "cell_type": "code",
   "execution_count": null,
   "metadata": {},
   "outputs": [],
   "source": [
    "print(np.mean(Z))\n",
    "print(np.mean(Z1))\n",
    "print(np.mean(Z2))"
   ]
  },
  {
   "cell_type": "code",
   "execution_count": null,
   "metadata": {},
   "outputs": [],
   "source": [
    "from scipy.special import gamma\n",
    "import statistics\n",
    "samp = len(Z)\n",
    "\n",
    "#s = np.random.dirichlet((10,6,3), samp).transpose() # drawing samples\n",
    "#print(s.shape)# printing shape\n",
    "\n",
    "## Three parameters are to be estimated, K1, K2 and K3\n",
    "def dch(k1, k2, k3):\n",
    "    S=0\n",
    "    beta_k = gamma(k1)*gamma(k2)*gamma(k3)/(gamma(k1+k2+k3))\n",
    "    for gene in range(samp):\n",
    "        \n",
    "        S = S + np.log(Z[gene]**(k1-1)*Z1[gene]**(k2-1)*Z2[gene]**(k3-1)/beta_k)\n",
    "    return S\n",
    "    \n",
    "## RW-MH     \n",
    "import random\n",
    "import time\n",
    "st = time.time()\n",
    "num = 50000\n",
    "K1 = np.zeros(num); K2 = np.zeros(num); K3 = np.zeros(num)\n",
    "\n",
    "k1 = 2;k2 = 6; k3 = 4\n",
    "acs = 0\n",
    "for priork in range(num):\n",
    "    \n",
    "    Uk1 = .2\n",
    "    \n",
    "    t = np.random.uniform(k1 - Uk1,k1 + Uk1, 1) # sampling k1 from a proposal distribution. \n",
    "    if(t<0):\n",
    "        prop_K1 = -t\n",
    "    else:\n",
    "        prop_K1 = t\n",
    "        \n",
    "        \n",
    "        \n",
    "    Uk2 = .2\n",
    "    \n",
    "    t2 = np.random.uniform(k2 - Uk2,k2 + Uk2, 1)# sampling k1 from a proposal distribution. \n",
    "    if(t2<0):\n",
    "        prop_K2 = -t2\n",
    "    else:\n",
    "        prop_K2 = t2\n",
    "        \n",
    "        \n",
    "    Uk3 = .2\n",
    "    \n",
    "    t3 = np.random.uniform(k3 - Uk3,k3 + Uk3, 1)# sampling k1 from a proposal distribution. \n",
    "    if(t3<0):\n",
    "        prop_K3 = -t3\n",
    "    else:\n",
    "        prop_K3 = t3\n",
    "        \n",
    "    rp = dch(prop_K1, prop_K2, prop_K3)\n",
    "    rc = dch(k1, k2, k3)\n",
    "    kp1 = ((-1*prop_K1)) + ((-2*prop_K2)) +((-3*prop_K3))# prior distribution. I took the log of prior, the prior dist are\n",
    "    # exp(-k1), exp(-k2), exp(-k3)\n",
    "    \n",
    "    kc1 = ((-1*k1)) + ((-2*k2)) + ((-3*k3))\n",
    "        \n",
    "    \n",
    "    a1 = (kp1 + rp )-(kc1 + rc )\n",
    "    \n",
    "    if(np.log(np.random.uniform(0, 1 , 1)) < a1):\n",
    "        \n",
    "        k1 = prop_K1\n",
    "        k2 = prop_K2\n",
    "        k3 = prop_K3\n",
    "        acs = acs + 1\n",
    "    else:\n",
    "        k1 = k1\n",
    "        k2 = k2\n",
    "        k3 = k3\n",
    "        \n",
    "\n",
    "    \n",
    "  \n",
    "        \n",
    "    K1[priork] = k1\n",
    "    K2[priork] = k2\n",
    "    K3[priork] = k3\n",
    "       \n",
    "\n",
    "\n",
    "print(statistics.mode(K1))\n",
    "print(statistics.mode(K2))\n",
    "print(statistics.mode(K3))\n",
    "et = time.time()  \n",
    "print((et-st)/60)\n"
   ]
  },
  {
   "cell_type": "code",
   "execution_count": null,
   "metadata": {},
   "outputs": [],
   "source": [
    "K1"
   ]
  },
  {
   "cell_type": "code",
   "execution_count": null,
   "metadata": {},
   "outputs": [],
   "source": [
    "plt.plot(K1)"
   ]
  },
  {
   "cell_type": "code",
   "execution_count": null,
   "metadata": {},
   "outputs": [],
   "source": [
    "print(\"mode is\",statistics.mode(K1))"
   ]
  },
  {
   "cell_type": "code",
   "execution_count": null,
   "metadata": {},
   "outputs": [],
   "source": [
    "plt.hist(K1)"
   ]
  },
  {
   "cell_type": "code",
   "execution_count": null,
   "metadata": {},
   "outputs": [],
   "source": []
  }
 ]
}